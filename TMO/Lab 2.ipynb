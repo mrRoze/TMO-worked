{
 "cells": [
  {
   "cell_type": "markdown",
   "metadata": {
    "collapsed": true,
    "pycharm": {
     "name": "#%% md\n"
    }
   },
   "source": [
    "#### Исследуемый набор данных\n",
    "_________________________________________\n",
    "В качестве набора данных используется dataset рейтингов университетов мира на основании трёх рейтингов. Датасет доступен по адресу: https://www.kaggle.com/mylesoneill/world-university-rankings\n",
    "\n",
    "Из набора данных будет рассматриваться только файл // cwurData.csv."
   ]
  },
  {
   "cell_type": "markdown",
   "source": [
    "### Основные характеристики набора данных\n",
    "Подключаем все необходимые библиотеки"
   ],
   "metadata": {
    "collapsed": false,
    "pycharm": {
     "name": "#%% md\n"
    }
   }
  },
  {
   "cell_type": "code",
   "execution_count": 2,
   "outputs": [],
   "source": [
    "import numpy as np\n",
    "import pandas as pd\n",
    "import seaborn as sns\n",
    "import matplotlib\n",
    "import matplotlib_inline\n",
    "import matplotlib.pyplot as plt\n",
    "%matplotlib inline\n",
    "sns.set(style=\"ticks\")"
   ],
   "metadata": {
    "collapsed": false,
    "pycharm": {
     "name": "#%%\n"
    }
   }
  },
  {
   "cell_type": "markdown",
   "source": [
    "Подключаем сам датасет"
   ],
   "metadata": {
    "collapsed": false,
    "pycharm": {
     "name": "#%% md\n"
    }
   }
  },
  {
   "cell_type": "code",
   "execution_count": 3,
   "outputs": [],
   "source": [
    "data = pd.read_csv('cwurData.csv', sep=\",\")"
   ],
   "metadata": {
    "collapsed": false,
    "pycharm": {
     "name": "#%%\n"
    }
   }
  },
  {
   "cell_type": "code",
   "execution_count": 4,
   "outputs": [
    {
     "data": {
      "text/plain": "(2200, 14)"
     },
     "execution_count": 4,
     "metadata": {},
     "output_type": "execute_result"
    }
   ],
   "source": [
    "#Размер данных\n",
    "data.shape"
   ],
   "metadata": {
    "collapsed": false,
    "pycharm": {
     "name": "#%%\n"
    }
   }
  },
  {
   "cell_type": "code",
   "execution_count": 5,
   "outputs": [
    {
     "data": {
      "text/plain": "world_rank                int64\ninstitution              object\ncountry                  object\nnational_rank             int64\nquality_of_education      int64\nalumni_employment         int64\nquality_of_faculty        int64\npublications              int64\ninfluence                 int64\ncitations                 int64\nbroad_impact            float64\npatents                   int64\nscore                   float64\nyear                      int64\ndtype: object"
     },
     "execution_count": 5,
     "metadata": {},
     "output_type": "execute_result"
    }
   ],
   "source": [
    "#Типы колонок\n",
    "data.dtypes"
   ],
   "metadata": {
    "collapsed": false,
    "pycharm": {
     "name": "#%%\n"
    }
   }
  },
  {
   "cell_type": "code",
   "execution_count": 6,
   "outputs": [
    {
     "data": {
      "text/plain": "world_rank                0\ninstitution               0\ncountry                   0\nnational_rank             0\nquality_of_education      0\nalumni_employment         0\nquality_of_faculty        0\npublications              0\ninfluence                 0\ncitations                 0\nbroad_impact            200\npatents                   0\nscore                     0\nyear                      0\ndtype: int64"
     },
     "execution_count": 6,
     "metadata": {},
     "output_type": "execute_result"
    }
   ],
   "source": [
    "#Проверяем, есть ли пропущенные значения\n",
    "data.isnull().sum()"
   ],
   "metadata": {
    "collapsed": false,
    "pycharm": {
     "name": "#%%\n"
    }
   }
  },
  {
   "cell_type": "code",
   "execution_count": 7,
   "outputs": [
    {
     "data": {
      "text/plain": "   world_rank                            institution         country  \\\n0           1                     Harvard University             USA   \n1           2  Massachusetts Institute of Technology             USA   \n2           3                    Stanford University             USA   \n3           4                University of Cambridge  United Kingdom   \n4           5     California Institute of Technology             USA   \n\n   national_rank  quality_of_education  alumni_employment  quality_of_faculty  \\\n0              1                     7                  9                   1   \n1              2                     9                 17                   3   \n2              3                    17                 11                   5   \n3              1                    10                 24                   4   \n4              4                     2                 29                   7   \n\n   publications  influence  citations  broad_impact  patents   score  year  \n0             1          1          1           NaN        5  100.00  2012  \n1            12          4          4           NaN        1   91.67  2012  \n2             4          2          2           NaN       15   89.50  2012  \n3            16         16         11           NaN       50   86.17  2012  \n4            37         22         22           NaN       18   85.21  2012  ",
      "text/html": "<div>\n<style scoped>\n    .dataframe tbody tr th:only-of-type {\n        vertical-align: middle;\n    }\n\n    .dataframe tbody tr th {\n        vertical-align: top;\n    }\n\n    .dataframe thead th {\n        text-align: right;\n    }\n</style>\n<table border=\"1\" class=\"dataframe\">\n  <thead>\n    <tr style=\"text-align: right;\">\n      <th></th>\n      <th>world_rank</th>\n      <th>institution</th>\n      <th>country</th>\n      <th>national_rank</th>\n      <th>quality_of_education</th>\n      <th>alumni_employment</th>\n      <th>quality_of_faculty</th>\n      <th>publications</th>\n      <th>influence</th>\n      <th>citations</th>\n      <th>broad_impact</th>\n      <th>patents</th>\n      <th>score</th>\n      <th>year</th>\n    </tr>\n  </thead>\n  <tbody>\n    <tr>\n      <th>0</th>\n      <td>1</td>\n      <td>Harvard University</td>\n      <td>USA</td>\n      <td>1</td>\n      <td>7</td>\n      <td>9</td>\n      <td>1</td>\n      <td>1</td>\n      <td>1</td>\n      <td>1</td>\n      <td>NaN</td>\n      <td>5</td>\n      <td>100.00</td>\n      <td>2012</td>\n    </tr>\n    <tr>\n      <th>1</th>\n      <td>2</td>\n      <td>Massachusetts Institute of Technology</td>\n      <td>USA</td>\n      <td>2</td>\n      <td>9</td>\n      <td>17</td>\n      <td>3</td>\n      <td>12</td>\n      <td>4</td>\n      <td>4</td>\n      <td>NaN</td>\n      <td>1</td>\n      <td>91.67</td>\n      <td>2012</td>\n    </tr>\n    <tr>\n      <th>2</th>\n      <td>3</td>\n      <td>Stanford University</td>\n      <td>USA</td>\n      <td>3</td>\n      <td>17</td>\n      <td>11</td>\n      <td>5</td>\n      <td>4</td>\n      <td>2</td>\n      <td>2</td>\n      <td>NaN</td>\n      <td>15</td>\n      <td>89.50</td>\n      <td>2012</td>\n    </tr>\n    <tr>\n      <th>3</th>\n      <td>4</td>\n      <td>University of Cambridge</td>\n      <td>United Kingdom</td>\n      <td>1</td>\n      <td>10</td>\n      <td>24</td>\n      <td>4</td>\n      <td>16</td>\n      <td>16</td>\n      <td>11</td>\n      <td>NaN</td>\n      <td>50</td>\n      <td>86.17</td>\n      <td>2012</td>\n    </tr>\n    <tr>\n      <th>4</th>\n      <td>5</td>\n      <td>California Institute of Technology</td>\n      <td>USA</td>\n      <td>4</td>\n      <td>2</td>\n      <td>29</td>\n      <td>7</td>\n      <td>37</td>\n      <td>22</td>\n      <td>22</td>\n      <td>NaN</td>\n      <td>18</td>\n      <td>85.21</td>\n      <td>2012</td>\n    </tr>\n  </tbody>\n</table>\n</div>"
     },
     "execution_count": 7,
     "metadata": {},
     "output_type": "execute_result"
    }
   ],
   "source": [
    "#Первые 5 строк датасета\n",
    "data.head()"
   ],
   "metadata": {
    "collapsed": false,
    "pycharm": {
     "name": "#%%\n"
    }
   }
  },
  {
   "cell_type": "code",
   "execution_count": 8,
   "outputs": [
    {
     "name": "stdout",
     "output_type": "stream",
     "text": [
      "Всего строк: 2200\n"
     ]
    }
   ],
   "source": [
    "total_count = data.shape[0]\n",
    "print('Всего строк: {}'.format(total_count))"
   ],
   "metadata": {
    "collapsed": false,
    "pycharm": {
     "name": "#%%\n"
    }
   }
  },
  {
   "cell_type": "code",
   "execution_count": 9,
   "outputs": [
    {
     "data": {
      "text/plain": "9.090909090909092"
     },
     "execution_count": 9,
     "metadata": {},
     "output_type": "execute_result"
    }
   ],
   "source": [
    "#Процент пропусков в broad_impact\n",
    "(200 / 2200) * 100"
   ],
   "metadata": {
    "collapsed": false,
    "pycharm": {
     "name": "#%%\n"
    }
   }
  },
  {
   "cell_type": "code",
   "execution_count": 10,
   "outputs": [],
   "source": [
    "#Настройка отображения графиков\n",
    "# Задание формата графиков для сохранения высокого качества PNG\n",
    "from IPython.display import set_matplotlib_formats\n",
    "matplotlib_inline.backend_inline.set_matplotlib_formats(\"retina\")\n",
    "# Задание ширины графиков, чтобы они помещались на A4"
   ],
   "metadata": {
    "collapsed": false,
    "pycharm": {
     "name": "#%%\n"
    }
   }
  },
  {
   "cell_type": "markdown",
   "source": [
    "### Обработка пропусков данных\n",
    "\n",
    "# Очистка строк\n",
    "\n",
    "Можно очистить строки, содержащие пропуски. Останутся данные только за 2014 и 2015 гг (см. описание датасета)"
   ],
   "metadata": {
    "collapsed": false,
    "pycharm": {
     "name": "#%% md\n"
    }
   }
  },
  {
   "cell_type": "code",
   "execution_count": 11,
   "outputs": [
    {
     "data": {
      "text/plain": "((2200, 14), (2000, 14))"
     },
     "execution_count": 11,
     "metadata": {},
     "output_type": "execute_result"
    }
   ],
   "source": [
    "# Удаление строк, содержащих пустые значения\n",
    "data_no_null = data.dropna(axis=0, how='any')\n",
    "(data.shape, data_no_null.shape)"
   ],
   "metadata": {
    "collapsed": false,
    "pycharm": {
     "name": "#%%\n"
    }
   }
  },
  {
   "cell_type": "code",
   "execution_count": 12,
   "outputs": [
    {
     "data": {
      "text/plain": "     world_rank                            institution         country  \\\n200           1                     Harvard University             USA   \n201           2                    Stanford University             USA   \n202           3  Massachusetts Institute of Technology             USA   \n203           4                University of Cambridge  United Kingdom   \n204           5                   University of Oxford  United Kingdom   \n205           6                    Columbia University             USA   \n206           7     University of California, Berkeley             USA   \n207           8                  University of Chicago             USA   \n208           9                   Princeton University             USA   \n209          10                        Yale University             USA   \n210          11                     Cornell University             USA   \n\n     national_rank  quality_of_education  alumni_employment  \\\n200              1                     1                  1   \n201              2                    11                  2   \n202              3                     3                 11   \n203              1                     2                 10   \n204              2                     7                 12   \n205              4                    13                  8   \n206              5                     4                 22   \n207              6                    10                 14   \n208              7                     5                 16   \n209              8                     9                 25   \n210              9                    12                 18   \n\n     quality_of_faculty  publications  influence  citations  broad_impact  \\\n200                   1             1          1          1           1.0   \n201                   4             5          3          3           4.0   \n202                   2            15          2          2           2.0   \n203                   5            10          9         12          13.0   \n204                  10            11         12         11          12.0   \n205                   9            14         13          9          13.0   \n206                   6             7          4          3           7.0   \n207                   8            17         19         10          18.0   \n208                   3            70         25         19          41.0   \n209                  11            18          7         32          19.0   \n210                  19            23         15         23          23.0   \n\n     patents   score  year  \n200        2  100.00  2014  \n201        6   99.09  2014  \n202        1   98.69  2014  \n203       48   97.64  2014  \n204       16   97.51  2014  \n205        4   97.41  2014  \n206       28   92.84  2014  \n207      149   92.03  2014  \n208      204   88.56  2014  \n209       45   88.11  2014  \n210       12   85.80  2014  ",
      "text/html": "<div>\n<style scoped>\n    .dataframe tbody tr th:only-of-type {\n        vertical-align: middle;\n    }\n\n    .dataframe tbody tr th {\n        vertical-align: top;\n    }\n\n    .dataframe thead th {\n        text-align: right;\n    }\n</style>\n<table border=\"1\" class=\"dataframe\">\n  <thead>\n    <tr style=\"text-align: right;\">\n      <th></th>\n      <th>world_rank</th>\n      <th>institution</th>\n      <th>country</th>\n      <th>national_rank</th>\n      <th>quality_of_education</th>\n      <th>alumni_employment</th>\n      <th>quality_of_faculty</th>\n      <th>publications</th>\n      <th>influence</th>\n      <th>citations</th>\n      <th>broad_impact</th>\n      <th>patents</th>\n      <th>score</th>\n      <th>year</th>\n    </tr>\n  </thead>\n  <tbody>\n    <tr>\n      <th>200</th>\n      <td>1</td>\n      <td>Harvard University</td>\n      <td>USA</td>\n      <td>1</td>\n      <td>1</td>\n      <td>1</td>\n      <td>1</td>\n      <td>1</td>\n      <td>1</td>\n      <td>1</td>\n      <td>1.0</td>\n      <td>2</td>\n      <td>100.00</td>\n      <td>2014</td>\n    </tr>\n    <tr>\n      <th>201</th>\n      <td>2</td>\n      <td>Stanford University</td>\n      <td>USA</td>\n      <td>2</td>\n      <td>11</td>\n      <td>2</td>\n      <td>4</td>\n      <td>5</td>\n      <td>3</td>\n      <td>3</td>\n      <td>4.0</td>\n      <td>6</td>\n      <td>99.09</td>\n      <td>2014</td>\n    </tr>\n    <tr>\n      <th>202</th>\n      <td>3</td>\n      <td>Massachusetts Institute of Technology</td>\n      <td>USA</td>\n      <td>3</td>\n      <td>3</td>\n      <td>11</td>\n      <td>2</td>\n      <td>15</td>\n      <td>2</td>\n      <td>2</td>\n      <td>2.0</td>\n      <td>1</td>\n      <td>98.69</td>\n      <td>2014</td>\n    </tr>\n    <tr>\n      <th>203</th>\n      <td>4</td>\n      <td>University of Cambridge</td>\n      <td>United Kingdom</td>\n      <td>1</td>\n      <td>2</td>\n      <td>10</td>\n      <td>5</td>\n      <td>10</td>\n      <td>9</td>\n      <td>12</td>\n      <td>13.0</td>\n      <td>48</td>\n      <td>97.64</td>\n      <td>2014</td>\n    </tr>\n    <tr>\n      <th>204</th>\n      <td>5</td>\n      <td>University of Oxford</td>\n      <td>United Kingdom</td>\n      <td>2</td>\n      <td>7</td>\n      <td>12</td>\n      <td>10</td>\n      <td>11</td>\n      <td>12</td>\n      <td>11</td>\n      <td>12.0</td>\n      <td>16</td>\n      <td>97.51</td>\n      <td>2014</td>\n    </tr>\n    <tr>\n      <th>205</th>\n      <td>6</td>\n      <td>Columbia University</td>\n      <td>USA</td>\n      <td>4</td>\n      <td>13</td>\n      <td>8</td>\n      <td>9</td>\n      <td>14</td>\n      <td>13</td>\n      <td>9</td>\n      <td>13.0</td>\n      <td>4</td>\n      <td>97.41</td>\n      <td>2014</td>\n    </tr>\n    <tr>\n      <th>206</th>\n      <td>7</td>\n      <td>University of California, Berkeley</td>\n      <td>USA</td>\n      <td>5</td>\n      <td>4</td>\n      <td>22</td>\n      <td>6</td>\n      <td>7</td>\n      <td>4</td>\n      <td>3</td>\n      <td>7.0</td>\n      <td>28</td>\n      <td>92.84</td>\n      <td>2014</td>\n    </tr>\n    <tr>\n      <th>207</th>\n      <td>8</td>\n      <td>University of Chicago</td>\n      <td>USA</td>\n      <td>6</td>\n      <td>10</td>\n      <td>14</td>\n      <td>8</td>\n      <td>17</td>\n      <td>19</td>\n      <td>10</td>\n      <td>18.0</td>\n      <td>149</td>\n      <td>92.03</td>\n      <td>2014</td>\n    </tr>\n    <tr>\n      <th>208</th>\n      <td>9</td>\n      <td>Princeton University</td>\n      <td>USA</td>\n      <td>7</td>\n      <td>5</td>\n      <td>16</td>\n      <td>3</td>\n      <td>70</td>\n      <td>25</td>\n      <td>19</td>\n      <td>41.0</td>\n      <td>204</td>\n      <td>88.56</td>\n      <td>2014</td>\n    </tr>\n    <tr>\n      <th>209</th>\n      <td>10</td>\n      <td>Yale University</td>\n      <td>USA</td>\n      <td>8</td>\n      <td>9</td>\n      <td>25</td>\n      <td>11</td>\n      <td>18</td>\n      <td>7</td>\n      <td>32</td>\n      <td>19.0</td>\n      <td>45</td>\n      <td>88.11</td>\n      <td>2014</td>\n    </tr>\n    <tr>\n      <th>210</th>\n      <td>11</td>\n      <td>Cornell University</td>\n      <td>USA</td>\n      <td>9</td>\n      <td>12</td>\n      <td>18</td>\n      <td>19</td>\n      <td>23</td>\n      <td>15</td>\n      <td>23</td>\n      <td>23.0</td>\n      <td>12</td>\n      <td>85.80</td>\n      <td>2014</td>\n    </tr>\n  </tbody>\n</table>\n</div>"
     },
     "execution_count": 12,
     "metadata": {},
     "output_type": "execute_result"
    }
   ],
   "source": [
    "data_no_null.head(11)"
   ],
   "metadata": {
    "collapsed": false,
    "pycharm": {
     "name": "#%%\n"
    }
   }
  },
  {
   "cell_type": "code",
   "execution_count": 13,
   "outputs": [
    {
     "name": "stdout",
     "output_type": "stream",
     "text": [
      "Всего строк: 2000\n"
     ]
    }
   ],
   "source": [
    "total_count = data_no_null.shape[0]\n",
    "print('Всего строк: {}'.format(total_count))"
   ],
   "metadata": {
    "collapsed": false,
    "pycharm": {
     "name": "#%%\n"
    }
   }
  },
  {
   "cell_type": "markdown",
   "source": [
    "### Внедрение значений"
   ],
   "metadata": {
    "collapsed": false,
    "pycharm": {
     "name": "#%% md\n"
    }
   }
  },
  {
   "cell_type": "code",
   "execution_count": 14,
   "outputs": [
    {
     "name": "stdout",
     "output_type": "stream",
     "text": [
      "Колонка broad_impact. Тип данных float64. Количество пустых значений 200, 10.0%.\n"
     ]
    }
   ],
   "source": [
    "# Выберем числовые колонки с пропущенными значениями\n",
    "# Цикл по колонкам датасета\n",
    "num_cols = []\n",
    "for col in data.columns:\n",
    "    # Количество пустых значений\n",
    "    temp_null_count = data[data[col].isnull()].shape[0]\n",
    "    dt = str(data[col].dtype)\n",
    "    if temp_null_count>0 and (dt=='float64' or dt=='int64'):\n",
    "        num_cols.append(col)\n",
    "        temp_perc = round((temp_null_count / total_count) * 100.0, 2)\n",
    "        print('Колонка {}. Тип данных {}. Количество пустых значений {}, {}%.'.format(col, dt, temp_null_count, temp_perc))"
   ],
   "metadata": {
    "collapsed": false,
    "pycharm": {
     "name": "#%%\n"
    }
   }
  },
  {
   "cell_type": "code",
   "execution_count": 15,
   "outputs": [
    {
     "data": {
      "text/plain": "      broad_impact\n0              NaN\n1              NaN\n2              NaN\n3              NaN\n4              NaN\n...            ...\n2195         969.0\n2196         981.0\n2197         975.0\n2198         975.0\n2199         981.0\n\n[2200 rows x 1 columns]",
      "text/html": "<div>\n<style scoped>\n    .dataframe tbody tr th:only-of-type {\n        vertical-align: middle;\n    }\n\n    .dataframe tbody tr th {\n        vertical-align: top;\n    }\n\n    .dataframe thead th {\n        text-align: right;\n    }\n</style>\n<table border=\"1\" class=\"dataframe\">\n  <thead>\n    <tr style=\"text-align: right;\">\n      <th></th>\n      <th>broad_impact</th>\n    </tr>\n  </thead>\n  <tbody>\n    <tr>\n      <th>0</th>\n      <td>NaN</td>\n    </tr>\n    <tr>\n      <th>1</th>\n      <td>NaN</td>\n    </tr>\n    <tr>\n      <th>2</th>\n      <td>NaN</td>\n    </tr>\n    <tr>\n      <th>3</th>\n      <td>NaN</td>\n    </tr>\n    <tr>\n      <th>4</th>\n      <td>NaN</td>\n    </tr>\n    <tr>\n      <th>...</th>\n      <td>...</td>\n    </tr>\n    <tr>\n      <th>2195</th>\n      <td>969.0</td>\n    </tr>\n    <tr>\n      <th>2196</th>\n      <td>981.0</td>\n    </tr>\n    <tr>\n      <th>2197</th>\n      <td>975.0</td>\n    </tr>\n    <tr>\n      <th>2198</th>\n      <td>975.0</td>\n    </tr>\n    <tr>\n      <th>2199</th>\n      <td>981.0</td>\n    </tr>\n  </tbody>\n</table>\n<p>2200 rows × 1 columns</p>\n</div>"
     },
     "execution_count": 15,
     "metadata": {},
     "output_type": "execute_result"
    }
   ],
   "source": [
    "# Фильтр по колонкам с пропущенными значениями\n",
    "data_num = data[num_cols]\n",
    "data_num"
   ],
   "metadata": {
    "collapsed": false,
    "pycharm": {
     "name": "#%%\n"
    }
   }
  },
  {
   "cell_type": "code",
   "execution_count": 16,
   "outputs": [
    {
     "data": {
      "text/plain": "<Figure size 432x288 with 1 Axes>",
      "image/png": "[encoded data removed]"
     },
     "metadata": {
      "image/png": {
       "width": 370,
       "height": 266
      }
     },
     "output_type": "display_data"
    }
   ],
   "source": [
    "# Гистограмма по признакам\n",
    "for col in data_num:\n",
    "    plt.hist(data[col], 50)\n",
    "    plt.xlabel(col)\n",
    "    plt.show()"
   ],
   "metadata": {
    "collapsed": false,
    "pycharm": {
     "name": "#%%\n"
    }
   }
  },
  {
   "cell_type": "code",
   "execution_count": 17,
   "outputs": [
    {
     "data": {
      "text/plain": "   broad_impact\n0           NaN\n1           NaN\n2           NaN\n3           NaN\n4           NaN",
      "text/html": "<div>\n<style scoped>\n    .dataframe tbody tr th:only-of-type {\n        vertical-align: middle;\n    }\n\n    .dataframe tbody tr th {\n        vertical-align: top;\n    }\n\n    .dataframe thead th {\n        text-align: right;\n    }\n</style>\n<table border=\"1\" class=\"dataframe\">\n  <thead>\n    <tr style=\"text-align: right;\">\n      <th></th>\n      <th>broad_impact</th>\n    </tr>\n  </thead>\n  <tbody>\n    <tr>\n      <th>0</th>\n      <td>NaN</td>\n    </tr>\n    <tr>\n      <th>1</th>\n      <td>NaN</td>\n    </tr>\n    <tr>\n      <th>2</th>\n      <td>NaN</td>\n    </tr>\n    <tr>\n      <th>3</th>\n      <td>NaN</td>\n    </tr>\n    <tr>\n      <th>4</th>\n      <td>NaN</td>\n    </tr>\n  </tbody>\n</table>\n</div>"
     },
     "execution_count": 17,
     "metadata": {},
     "output_type": "execute_result"
    }
   ],
   "source": [
    "data_num_MasVnrArea = data_num[['broad_impact']]\n",
    "data_num_MasVnrArea.head()"
   ],
   "metadata": {
    "collapsed": false,
    "pycharm": {
     "name": "#%%\n"
    }
   }
  },
  {
   "cell_type": "code",
   "execution_count": null,
   "outputs": [],
   "source": [],
   "metadata": {
    "collapsed": false,
    "pycharm": {
     "name": "#%%\n"
    }
   }
  }
 ],
 "metadata": {
  "kernelspec": {
   "display_name": "Python 3",
   "language": "python",
   "name": "python3"
  },
  "language_info": {
   "codemirror_mode": {
    "name": "ipython",
    "version": 2
   },
   "file_extension": ".py",
   "mimetype": "text/x-python",
   "name": "python",
   "nbconvert_exporter": "python",
   "pygments_lexer": "ipython2",
   "version": "2.7.6"
  }
 },
 "nbformat": 4,
 "nbformat_minor": 0
}