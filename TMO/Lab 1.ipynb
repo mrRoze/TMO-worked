{
 "cells": [
  {
   "cell_type": "raw",
   "metadata": {
    "collapsed": true,
    "pycharm": {
     "name": "#%% raw\n"
    }
   },
   "source": [
    "Лабораторная работа 1\n",
    "Разведочный анализ данных. Исследование и визуализация данных."
   ]
  },
  {
   "cell_type": "raw",
   "source": [
    "Для решения ЛР и для исследования данных возьмём классический датасет Ирисы Фишера\n",
    "Предварительно были установлены все нужные библиотеки Python 3.9\n",
    "--> Pandas, Terasflur, Matplotlib, Seaborn, Plotly, Graphviz, Bokeh, Altair"
   ],
   "metadata": {
    "collapsed": false,
    "pycharm": {
     "name": "#%% raw\n"
    }
   }
  },
  {
   "cell_type": "code",
   "source": [],
   "metadata": {
    "collapsed": false,
    "pycharm": {
     "name": "#%%\n"
    }
   },
   "execution_count": null,
   "outputs": []
  }
 ],
 "metadata": {
  "kernelspec": {
   "display_name": "Python 3",
   "language": "python",
   "name": "python3"
  },
  "language_info": {
   "codemirror_mode": {
    "name": "ipython",
    "version": 2
   },
   "file_extension": ".py",
   "mimetype": "text/x-python",
   "name": "python",
   "nbconvert_exporter": "python",
   "pygments_lexer": "ipython2",
   "version": "2.7.6"
  }
 },
 "nbformat": 4,
 "nbformat_minor": 0
}