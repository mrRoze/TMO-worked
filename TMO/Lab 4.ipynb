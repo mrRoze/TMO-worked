{
 "cells": [
  {
   "cell_type": "markdown",
   "id": "511ecd17-dcd0-4707-93b8-9e76b95114e9",
   "metadata": {
    "pycharm": {
     "name": "#%% md\n"
    }
   },
   "source": [
    "# Задание"
   ]
  },
  {
   "cell_type": "markdown",
   "id": "d70d14f6-d54b-45c6-b94a-34e649c972ea",
   "metadata": {
    "pycharm": {
     "name": "#%% md\n"
    }
   },
   "source": [
    "1. Выберите набор данных (датасет) для решения задачи классификации или регрессии.\n",
    "2. В случае необходимости проведите удаление или заполнение пропусков и кодирование категориальных признаков.\n",
    "3. С использованием метода train_test_split разделите выборку на обучающую и тестовую.\n",
    "4. Обучите следующие модели:\n",
    "    * одну из линейных моделей (линейную или полиномиальную регрессию при решении задачи регрессии, логистическую регрессию при решении задачи классификации);\n",
    "    * SVM;\n",
    "    * дерево решений.\n",
    "5. Оцените качество моделей с помощью двух подходящих для задачи метрик. Сравните качество полученных моделей.\n",
    "6. Постройте график, показывающий важность признаков в дереве решений.\n",
    "7. Визуализируйте дерево решений или выведите правила дерева решений в текстовом виде."
   ]
  },
  {
   "cell_type": "markdown",
   "id": "ba76a192-5488-4ae4-80ba-a3d8bf2bf869",
   "metadata": {
    "pycharm": {
     "name": "#%% md\n"
    }
   },
   "source": [
    "В качестве набора данных используется dataset рейтингов университетов мира на основании трёх рейтингов. Датасет доступен по адресу: https://www.kaggle.com/mylesoneill/world-university-rankings\n",
    "\n",
    "Из набора данных будет рассматриваться только файл cwurData.csv"
   ]
  },
  {
   "cell_type": "markdown",
   "id": "c3f38b37-220b-42eb-917f-baca6cb9a06b",
   "metadata": {
    "pycharm": {
     "name": "#%% md\n"
    }
   },
   "source": [
    "## Основные характеристики набора данных"
   ]
  },
  {
   "cell_type": "markdown",
   "id": "b67495e7-2031-48c4-8bfa-0516cdb677b1",
   "metadata": {
    "pycharm": {
     "name": "#%% md\n"
    }
   },
   "source": [
    "Подключаем все необходимые библиотеки"
   ]
  },
  {
   "cell_type": "code",
   "execution_count": null,
   "id": "8b82cb48-c95b-4bbd-a48d-38db0e5e9c11",
   "metadata": {
    "pycharm": {
     "name": "#%%\n"
    }
   },
   "outputs": [],
   "source": [
    "import numpy as np\n",
    "import pandas as pd\n",
    "import seaborn as sns\n",
    "import matplotlib\n",
    "import matplotlib_inline\n",
    "import matplotlib.pyplot as plt\n",
    "from sklearn.model_selection import train_test_split\n",
    "%matplotlib inline \n",
    "sns.set(style=\"ticks\")\n",
    "from io import StringIO"
   ]
  },
  {
   "cell_type": "markdown",
   "id": "11d27f47-77af-482b-8f06-fe2749e25874",
   "metadata": {
    "pycharm": {
     "name": "#%% md\n"
    }
   },
   "source": [
    "Подключаем Dataset"
   ]
  },
  {
   "cell_type": "code",
   "execution_count": null,
   "id": "710b0b2f-1e14-4596-87ec-444c6caa5cb5",
   "metadata": {
    "pycharm": {
     "name": "#%%\n"
    }
   },
   "outputs": [],
   "source": [
    "data = pd.read_csv('cwurData.csv', sep=\",\")"
   ]
  },
  {
   "cell_type": "markdown",
   "id": "d3410759-f0b5-4072-9241-b4c2d899389b",
   "metadata": {
    "pycharm": {
     "name": "#%% md\n"
    }
   },
   "source": [
    "Размер набора данных"
   ]
  },
  {
   "cell_type": "code",
   "execution_count": null,
   "id": "525eeb9c-1070-40ee-a124-22555c79e882",
   "metadata": {
    "pycharm": {
     "name": "#%%\n"
    }
   },
   "outputs": [],
   "source": [
    "data.shape"
   ]
  },
  {
   "cell_type": "markdown",
   "id": "d90aed8f-139c-47a6-91bd-8accb3a0476e",
   "metadata": {
    "pycharm": {
     "name": "#%% md\n"
    }
   },
   "source": [
    "Типы колонок"
   ]
  },
  {
   "cell_type": "code",
   "execution_count": null,
   "id": "f119213b-725a-4a81-9785-a7ae2c9d14d8",
   "metadata": {
    "pycharm": {
     "name": "#%%\n"
    }
   },
   "outputs": [],
   "source": [
    "data.dtypes"
   ]
  },
  {
   "cell_type": "markdown",
   "id": "88e1c8e6-a538-4428-8226-05d0222b01a7",
   "metadata": {
    "pycharm": {
     "name": "#%% md\n"
    }
   },
   "source": [
    "Проверяем, есть ли пропущенные значения"
   ]
  },
  {
   "cell_type": "code",
   "execution_count": null,
   "id": "ac78f3f8-0649-4e9a-be5f-96351f5268e4",
   "metadata": {
    "pycharm": {
     "name": "#%%\n"
    }
   },
   "outputs": [],
   "source": [
    "data.isnull().sum()"
   ]
  },
  {
   "cell_type": "markdown",
   "id": "26057c54-48e0-49a5-851d-346bb5447643",
   "metadata": {
    "pycharm": {
     "name": "#%% md\n"
    }
   },
   "source": [
    "Первые 5 строк датасета"
   ]
  },
  {
   "cell_type": "code",
   "execution_count": null,
   "id": "fce104af-0018-4736-b675-bc3d3e5e3b8d",
   "metadata": {
    "pycharm": {
     "name": "#%%\n"
    }
   },
   "outputs": [],
   "source": [
    "data.head()"
   ]
  },
  {
   "cell_type": "code",
   "execution_count": null,
   "id": "ff54fbd1-94e7-444a-8fca-e66cc14ce17d",
   "metadata": {
    "pycharm": {
     "name": "#%%\n"
    }
   },
   "outputs": [],
   "source": [
    "total_count = data.shape[0]\n",
    "print('Всего строк: {}'.format(total_count))"
   ]
  },
  {
   "cell_type": "markdown",
   "id": "154e335e-6153-4c9a-9822-2b3e5f34e639",
   "metadata": {
    "pycharm": {
     "name": "#%% md\n"
    }
   },
   "source": [
    "Процент пропусков в // broad_impact"
   ]
  },
  {
   "cell_type": "code",
   "execution_count": null,
   "id": "8e227939-4802-4710-aa34-a6c6c4c16ded",
   "metadata": {
    "pycharm": {
     "name": "#%%\n"
    }
   },
   "outputs": [],
   "source": [
    "(200 / 2200) * 100"
   ]
  },
  {
   "cell_type": "markdown",
   "id": "8e7947cf-6bef-4d91-b052-1ba6b5ffb608",
   "metadata": {
    "pycharm": {
     "name": "#%% md\n"
    }
   },
   "source": [
    "Настройка отображения графиков"
   ]
  },
  {
   "cell_type": "code",
   "execution_count": null,
   "id": "3b000320-0c07-49b5-9fe5-ae9c9264edf9",
   "metadata": {
    "pycharm": {
     "name": "#%%\n"
    }
   },
   "outputs": [],
   "source": [
    "# Задание формата графиков для сохранения высокого качества PNG\n",
    "from IPython.display import set_matplotlib_formats\n",
    "matplotlib_inline.backend_inline.set_matplotlib_formats(\"retina\")\n",
    "# Задание ширины графиков, чтобы они помещались на A4\n",
    "pd.set_option(\"display.width\", 70)"
   ]
  },
  {
   "cell_type": "markdown",
   "id": "cffe2145-e721-451e-b19e-cd2f2fcaf33a",
   "metadata": {
    "pycharm": {
     "name": "#%% md\n"
    }
   },
   "source": [
    "## Обработка пропусков данных"
   ]
  },
  {
   "cell_type": "markdown",
   "id": "094fcb41-323c-45e5-8e15-938d5fb8b6a0",
   "metadata": {
    "pycharm": {
     "name": "#%% md\n"
    }
   },
   "source": [
    "### Очистка строк"
   ]
  },
  {
   "cell_type": "markdown",
   "id": "cf2b7f3f-aa7d-41b4-8550-974482a59559",
   "metadata": {
    "pycharm": {
     "name": "#%% md\n"
    }
   },
   "source": [
    "Можно очистить строки, содержащие пропуски. При этом останутся данные только за 2014 и 2015 гг (см. описание датасета)"
   ]
  },
  {
   "cell_type": "code",
   "execution_count": null,
   "id": "261231dc-fec0-4ba1-8d14-6b4942fbd1af",
   "metadata": {
    "pycharm": {
     "name": "#%%\n"
    }
   },
   "outputs": [],
   "source": [
    "# Удаление строк, содержащих пустые значения\n",
    "data_no_null = data.dropna(axis=0, how='any')\n",
    "(data.shape, data_no_null.shape)"
   ]
  },
  {
   "cell_type": "markdown",
   "id": "a44659ca-74a4-4cf8-b033-842041b58c83",
   "metadata": {
    "pycharm": {
     "name": "#%% md\n"
    }
   },
   "source": [
    "Выведем первые 11 строк, чтобы убедиться, что данные в `national_rank` числовые (Jupyter Lab в предпросмотре CSV показывает не совсем верно)"
   ]
  },
  {
   "cell_type": "code",
   "execution_count": null,
   "id": "09370443-3fcd-46a9-a5c2-5c49691c4bf1",
   "metadata": {
    "pycharm": {
     "name": "#%%\n"
    }
   },
   "outputs": [],
   "source": [
    "data_no_null.head(11)"
   ]
  },
  {
   "cell_type": "code",
   "execution_count": null,
   "id": "8fc76515-5346-4408-8141-908012237b31",
   "metadata": {
    "pycharm": {
     "name": "#%%\n"
    }
   },
   "outputs": [],
   "source": [
    "total_count = data_no_null.shape[0]\n",
    "print('Всего строк: {}'.format(total_count))"
   ]
  },
  {
   "cell_type": "markdown",
   "id": "9e2a7d11-c449-4e60-a977-f15c89b466b5",
   "metadata": {
    "pycharm": {
     "name": "#%% md\n"
    }
   },
   "source": [
    "## Кодирование категориальных признаков"
   ]
  },
  {
   "cell_type": "markdown",
   "id": "53de3df7-492a-4522-99cd-39b82a3a90d2",
   "metadata": {
    "pycharm": {
     "name": "#%% md\n"
    }
   },
   "source": [
    "Преобразуем названия стран, городов, и тд в числовые зеачения (label encoding)"
   ]
  },
  {
   "cell_type": "code",
   "execution_count": null,
   "id": "b9d3cad5-a489-4908-bc6c-0340c41af12a",
   "metadata": {
    "pycharm": {
     "name": "#%%\n"
    }
   },
   "outputs": [],
   "source": [
    "from sklearn.preprocessing import LabelEncoder, OneHotEncoder"
   ]
  },
  {
   "cell_type": "code",
   "execution_count": null,
   "id": "e204c5d8-393f-4ea6-a190-f91c410eee45",
   "metadata": {
    "pycharm": {
     "name": "#%%\n"
    }
   },
   "outputs": [],
   "source": [
    "le = LabelEncoder()\n",
    "    # \"institution\"\n",
    "le.fit(data_no_null.institution.drop_duplicates()) \n",
    "data_no_null.institution = le.transform(data_no_null.institution)\n",
    "    # \"country\"\n",
    "le.fit(data_no_null[\"country\"].drop_duplicates()) \n",
    "data_no_null[\"country\"] = le.transform(data_no_null[\"country\"])"
   ]
  },
  {
   "cell_type": "markdown",
   "id": "45c7099a-7ef8-4514-8dd8-a5539da4b579",
   "metadata": {
    "pycharm": {
     "name": "#%% md\n"
    }
   },
   "source": [
    "Построим кореляционную матрицу"
   ]
  },
  {
   "cell_type": "code",
   "execution_count": null,
   "id": "2199376d-55f0-4810-be9a-e760e1d2a2be",
   "metadata": {
    "pycharm": {
     "name": "#%%\n"
    }
   },
   "outputs": [],
   "source": [
    "ig, ax = plt.subplots(figsize=(20,10))\n",
    "sns.heatmap(data_no_null.corr(method='pearson'), ax=ax, annot=True, fmt='.3f')"
   ]
  },
  {
   "cell_type": "markdown",
   "id": "01e2ebda-1337-48eb-8439-85f4978888a4",
   "metadata": {
    "tags": [],
    "pycharm": {
     "name": "#%% md\n"
    }
   },
   "source": [
    "## Предсказание целевого признака"
   ]
  },
  {
   "cell_type": "markdown",
   "id": "1cd9e7b2-c9e8-4c54-ac3f-488299430d94",
   "metadata": {
    "pycharm": {
     "name": "#%% md\n"
    }
   },
   "source": [
    "Предскажем значение целевого признака world_rank по broad_impact и publications, поскольку их значения кореляции ближе всего к 1"
   ]
  },
  {
   "cell_type": "markdown",
   "id": "0fc89b0a-90e3-48c9-96bb-2803701fb22a",
   "metadata": {
    "pycharm": {
     "name": "#%% md\n"
    }
   },
   "source": [
    "### Разбиение выборки на обучающую и тестовую"
   ]
  },
  {
   "cell_type": "code",
   "execution_count": null,
   "id": "a46756f1-ca4f-4fbf-ab7f-899e5bf0ecd2",
   "metadata": {
    "pycharm": {
     "name": "#%%\n"
    }
   },
   "outputs": [],
   "source": [
    "X = data_no_null[[\"broad_impact\", \"publications\"]]\n",
    "Y = data_no_null[\"world_rank\"]\n",
    "print('Входные данные:\\n\\n', X.head(), '\\n\\nВыходные данные:\\n\\n', Y.head())"
   ]
  },
  {
   "cell_type": "markdown",
   "id": "1890b8dd-d2a3-45d8-a34a-0dc717936641",
   "metadata": {
    "pycharm": {
     "name": "#%% md\n"
    }
   },
   "source": [
    "Разделим выборку на обучающую и тестовую"
   ]
  },
  {
   "cell_type": "code",
   "execution_count": null,
   "id": "d5e29f87-38c7-418c-92fb-72512134a723",
   "metadata": {
    "pycharm": {
     "name": "#%%\n"
    }
   },
   "outputs": [],
   "source": [
    "X_train,  X_test,  Y_train,  Y_test = train_test_split(X,  Y, random_state = 2022, test_size = 0.1)"
   ]
  },
  {
   "cell_type": "markdown",
   "id": "6b5b8464-015a-4fc6-9532-8a871f546674",
   "metadata": {
    "pycharm": {
     "name": "#%% md\n"
    }
   },
   "source": [
    "Входные параметры обучающей выборки"
   ]
  },
  {
   "cell_type": "code",
   "execution_count": null,
   "id": "8429ba25-8214-48fb-8e52-1350636ec447",
   "metadata": {
    "pycharm": {
     "name": "#%%\n"
    }
   },
   "outputs": [],
   "source": [
    "X_train.head()"
   ]
  },
  {
   "cell_type": "markdown",
   "id": "d04a4b2d-f78a-4a2b-b1f1-db9f73d59a6c",
   "metadata": {
    "pycharm": {
     "name": "#%% md\n"
    }
   },
   "source": [
    "Входные параметры тестовой выборки"
   ]
  },
  {
   "cell_type": "code",
   "execution_count": null,
   "id": "019717df-4194-45e3-9bde-0c8d70baec7b",
   "metadata": {
    "pycharm": {
     "name": "#%%\n"
    }
   },
   "outputs": [],
   "source": [
    "X_test.head()"
   ]
  },
  {
   "cell_type": "markdown",
   "id": "3818054b-0082-40bd-a0c4-0e6d463b77f2",
   "metadata": {
    "pycharm": {
     "name": "#%% md\n"
    }
   },
   "source": [
    "Выходные параметры обучающей выборки"
   ]
  },
  {
   "cell_type": "code",
   "execution_count": null,
   "id": "e39b0492-ce82-4e55-b332-5ab3c081eb62",
   "metadata": {
    "pycharm": {
     "name": "#%%\n"
    }
   },
   "outputs": [],
   "source": [
    "Y_train.head()"
   ]
  },
  {
   "cell_type": "markdown",
   "id": "0554a8fb-1450-46a1-8ad8-548cccf8fef7",
   "metadata": {
    "pycharm": {
     "name": "#%% md\n"
    }
   },
   "source": [
    "Выходные параметры тестовой выборки"
   ]
  },
  {
   "cell_type": "code",
   "execution_count": null,
   "id": "ab2c526a-9dc8-48dc-aa0f-57a8b9f6494e",
   "metadata": {
    "pycharm": {
     "name": "#%%\n"
    }
   },
   "outputs": [],
   "source": [
    "Y_test.head()"
   ]
  },
  {
   "cell_type": "markdown",
   "id": "25ce5fbf-1972-40e4-ad19-f8710c6e8898",
   "metadata": {
    "pycharm": {
     "name": "#%% md\n"
    }
   },
   "source": [
    "### Построение линейной регрессии"
   ]
  },
  {
   "cell_type": "code",
   "execution_count": null,
   "id": "f45fc956-8d1b-48cc-ab83-bdafcce8246a",
   "metadata": {
    "pycharm": {
     "name": "#%%\n"
    }
   },
   "outputs": [],
   "source": [
    "from sklearn.linear_model import LinearRegression\n",
    "from sklearn.metrics import mean_absolute_error, mean_squared_error,  median_absolute_error, r2_score"
   ]
  },
  {
   "cell_type": "code",
   "execution_count": null,
   "id": "d0a53295-5554-4127-886c-f1af35370505",
   "metadata": {
    "pycharm": {
     "name": "#%%\n"
    }
   },
   "outputs": [],
   "source": [
    "Lin_Reg = LinearRegression().fit(X_train, Y_train)\n",
    "lr_y_pred = Lin_Reg.predict(X_test)"
   ]
  },
  {
   "cell_type": "markdown",
   "id": "8cc6e287-0cf6-442a-9013-376c15bf4a57",
   "metadata": {
    "pycharm": {
     "name": "#%% md\n"
    }
   },
   "source": [
    "Возьмем тот параметр, чья корреляция ближе всего к единице, т.е. broad_impact"
   ]
  },
  {
   "cell_type": "code",
   "execution_count": null,
   "id": "c2e51320-af51-4e00-acf3-7345c422d601",
   "metadata": {
    "pycharm": {
     "name": "#%%\n"
    }
   },
   "outputs": [],
   "source": [
    "plt.scatter(X_test[\"broad_impact\"], Y_test,    marker = 's', label = 'Тестовая выборка')\n",
    "plt.scatter(X_test[\"broad_impact\"], lr_y_pred, marker = 'o', label = 'Предсказанные данные')\n",
    "plt.legend (loc = 'lower right')\n",
    "plt.xlabel ('Рейтинг за широкое влияние')\n",
    "plt.ylabel ('Целевой признак')\n",
    "plt.show()"
   ]
  },
  {
   "cell_type": "code",
   "execution_count": null,
   "id": "24a78923-64c6-45b9-8ffa-b8f2fb657638",
   "metadata": {
    "pycharm": {
     "name": "#%%\n"
    }
   },
   "outputs": [],
   "source": [
    "from sklearn.metrics import mean_absolute_error, mean_squared_error,  median_absolute_error, r2_score"
   ]
  },
  {
   "cell_type": "code",
   "execution_count": null,
   "id": "4b1c3102-76e9-4f13-8be3-6dc6977b194f",
   "metadata": {
    "pycharm": {
     "name": "#%%\n"
    }
   },
   "outputs": [],
   "source": [
    "print('Средняя абсолютная ошибка:',   mean_absolute_error(Y_test, lr_y_pred))\n",
    "print('Средняя квадратичная ошибка:', mean_squared_error(Y_test, lr_y_pred))\n",
    "print('Median absolute error:',       median_absolute_error(Y_test, lr_y_pred))\n",
    "print('Коэффициент детерминации:',    r2_score(Y_test, lr_y_pred))"
   ]
  },
  {
   "cell_type": "markdown",
   "id": "b9fe084f-681e-4459-a311-cbc4903b7973",
   "metadata": {
    "pycharm": {
     "name": "#%% md\n"
    }
   },
   "source": [
    "### SVM"
   ]
  },
  {
   "cell_type": "code",
   "execution_count": null,
   "id": "eacbfa8d-fdf6-4359-a769-fc51770b197a",
   "metadata": {
    "pycharm": {
     "name": "#%%\n"
    }
   },
   "outputs": [],
   "source": [
    "from sklearn.svm import SVC , LinearSVC\n",
    "from sklearn.datasets import make_blobs"
   ]
  },
  {
   "cell_type": "code",
   "execution_count": null,
   "id": "8a5583e1-6df0-418c-b68a-d410a380c31f",
   "metadata": {
    "pycharm": {
     "name": "#%%\n"
    }
   },
   "outputs": [],
   "source": [
    "svc = SVC(kernel='linear')\n",
    "svc.fit(X_train,Y_train)"
   ]
  },
  {
   "cell_type": "code",
   "execution_count": null,
   "id": "e51dca3b-530f-4197-bf8e-10bdc44b71c6",
   "metadata": {
    "pycharm": {
     "name": "#%%\n"
    }
   },
   "outputs": [],
   "source": [
    "pred_y = svc.predict(X_test)"
   ]
  },
  {
   "cell_type": "code",
   "execution_count": null,
   "id": "8d4b2602-6211-492f-9cd3-08f6d302518c",
   "metadata": {
    "pycharm": {
     "name": "#%%\n"
    }
   },
   "outputs": [],
   "source": [
    "plt.scatter(X_test[\"broad_impact\"], Y_test, marker = 's', label = 'Тестовая выборка')\n",
    "plt.scatter(X_test[\"broad_impact\"], pred_y, marker = 'o', label = 'Предсказанные данные')\n",
    "plt.legend (loc = 'lower right')\n",
    "plt.xlabel ('рейтинг за широкое влияние')\n",
    "plt.ylabel ('Целевой признак')\n",
    "plt.show()"
   ]
  },
  {
   "cell_type": "code",
   "execution_count": null,
   "id": "03911700-9e30-4529-b560-143bb163ed24",
   "metadata": {
    "pycharm": {
     "name": "#%%\n"
    }
   },
   "outputs": [],
   "source": [
    "print('Средняя абсолютная ошибка:',   mean_absolute_error(Y_test, pred_y))\n",
    "print('Средняя квадратичная ошибка:', mean_squared_error(Y_test, pred_y))\n",
    "print('Median absolute error:',       median_absolute_error(Y_test, pred_y))\n",
    "print('Коэффициент детерминации:',    r2_score(Y_test, pred_y))"
   ]
  },
  {
   "cell_type": "markdown",
   "id": "9f38f25a-21a7-4cd2-844b-a60a221087bc",
   "metadata": {
    "pycharm": {
     "name": "#%% md\n"
    }
   },
   "source": [
    "### Дерево (Tree)"
   ]
  },
  {
   "cell_type": "code",
   "execution_count": null,
   "id": "8dedc10c-144a-4621-84e9-07c1d5dbfe7f",
   "metadata": {
    "pycharm": {
     "name": "#%%\n"
    }
   },
   "outputs": [],
   "source": [
    "from sklearn.tree import DecisionTreeClassifier, DecisionTreeRegressor, export_graphviz\n",
    "from sklearn.tree import export_graphviz\n",
    "from sklearn import tree\n",
    "import re\n",
    "from IPython.core.display import HTML\n",
    "from sklearn.tree import export_text\n",
    "import graphviz\n",
    "from IPython.display import Image\n",
    "import pydotplus"
   ]
  },
  {
   "cell_type": "markdown",
   "id": "6ce03c98-76e5-453b-bcba-9c2ad7911efd",
   "metadata": {
    "pycharm": {
     "name": "#%% md\n"
    }
   },
   "source": [
    "Обучим дерево на всех признаках"
   ]
  },
  {
   "cell_type": "code",
   "execution_count": null,
   "id": "33a9da12-032a-4fa9-9a19-3d93b745f06b",
   "metadata": {
    "pycharm": {
     "name": "#%%\n"
    }
   },
   "outputs": [],
   "source": [
    "reg = tree.DecisionTreeRegressor()\n",
    "reg = reg.fit(X_test, Y_test)"
   ]
  },
  {
   "cell_type": "code",
   "execution_count": null,
   "id": "c6f145a3-81b2-4904-9f32-1981c442ba7e",
   "metadata": {
    "pycharm": {
     "name": "#%%\n"
    }
   },
   "outputs": [],
   "source": [
    "pred_y = reg.predict(X_test)\n",
    "plt.scatter(X_test[\"broad_impact\"], Y_test,    marker = 's', label = 'Тестовая выборка')\n",
    "plt.scatter(X_test[\"broad_impact\"], pred_y, marker = 'o', label = 'Предсказанные данные')\n",
    "plt.legend (loc = 'lower right')\n",
    "plt.xlabel ('рейтинг за широкое влияние')\n",
    "plt.ylabel ('Целевой признак')\n",
    "plt.show()"
   ]
  },
  {
   "cell_type": "markdown",
   "id": "d2e336f3-1c0f-4b2a-8da7-3a5441348fcc",
   "metadata": {
    "pycharm": {
     "name": "#%% md\n"
    }
   },
   "source": [
    "#### Дерево в текстовом виде"
   ]
  },
  {
   "cell_type": "code",
   "execution_count": null,
   "id": "71017576-6496-4941-85ec-db9740e2b1eb",
   "metadata": {
    "pycharm": {
     "name": "#%%\n"
    }
   },
   "outputs": [],
   "source": [
    "tree_rules = export_text(reg, feature_names=list(X.columns))\n",
    "HTML('<pre>' + tree_rules + '</pre>')"
   ]
  },
  {
   "cell_type": "markdown",
   "id": "318d637d-9eee-4626-b7ed-0381ceaafe93",
   "metadata": {
    "pycharm": {
     "name": "#%% md\n"
    }
   },
   "source": [
    "#### Визуализация дерева"
   ]
  },
  {
   "cell_type": "code",
   "execution_count": null,
   "id": "ecfeb5aa-188d-40c7-8582-87f37313bf4b",
   "metadata": {
    "pycharm": {
     "name": "#%%\n"
    }
   },
   "outputs": [],
   "source": [
    "# Визуализация дерева\n",
    "def get_png_tree(tree_model_param, feature_names_param):\n",
    "    dot_data = StringIO()\n",
    "    export_graphviz(tree_model_param, out_file=dot_data, feature_names=feature_names_param,\n",
    "                    filled=True, rounded=True, special_characters=True)\n",
    "    graph = pydotplus.graph_from_dot_data(dot_data.getvalue())\n",
    "    return graph.create_png()"
   ]
  },
  {
   "cell_type": "code",
   "execution_count": null,
   "id": "84e9b643-7ac7-4ee7-a7c7-de69d8edd3df",
   "metadata": {
    "pycharm": {
     "name": "#%%\n"
    }
   },
   "outputs": [
    {
     "ename": "NameError",
     "evalue": "name 'Image' is not defined",
     "output_type": "error",
     "traceback": [
      "\u001B[1;31m---------------------------------------------------------------------------\u001B[0m",
      "\u001B[1;31mNameError\u001B[0m                                 Traceback (most recent call last)",
      "Input \u001B[1;32mIn [1]\u001B[0m, in \u001B[0;36m<cell line: 1>\u001B[1;34m()\u001B[0m\n\u001B[1;32m----> 1\u001B[0m \u001B[43mImage\u001B[49m(get_png_tree(reg, X\u001B[38;5;241m.\u001B[39mcolumns), height\u001B[38;5;241m=\u001B[39m\u001B[38;5;124m'\u001B[39m\u001B[38;5;124m100\u001B[39m\u001B[38;5;124m%\u001B[39m\u001B[38;5;124m'\u001B[39m)\n",
      "\u001B[1;31mNameError\u001B[0m: name 'Image' is not defined"
     ]
    }
   ],
   "source": [
    "Image(get_png_tree(reg, X.columns), height='100%')"
   ]
  },
  {
   "cell_type": "markdown",
   "id": "99c9afc3-3127-420c-ab35-4b2e49bafeb8",
   "metadata": {
    "pycharm": {
     "name": "#%% md\n"
    }
   },
   "source": [
    "#### Важность признаков в дереве"
   ]
  },
  {
   "cell_type": "code",
   "execution_count": null,
   "id": "8f963d3d-eb67-4721-af1b-76bdf3018dd6",
   "metadata": {
    "pycharm": {
     "name": "#%%\n"
    }
   },
   "outputs": [],
   "source": [
    "from operator import itemgetter\n",
    "\n",
    "def draw_feature_importances(tree_model, X_dataset, figsize=(18,5)):\n",
    "    \"\"\"\n",
    "    Вывод важности признаков в виде графика\n",
    "    \"\"\"\n",
    "    # Сортировка значений важности признаков по убыванию\n",
    "    list_to_sort = list(zip(X_dataset.columns.values, tree_model.feature_importances_))\n",
    "    sorted_list = sorted(list_to_sort, key=itemgetter(1), reverse = True)\n",
    "    # Названия признаков\n",
    "    labels = [x for x,_ in sorted_list]\n",
    "    # Важности признаков\n",
    "    data = [x for _,x in sorted_list]\n",
    "    # Вывод графика\n",
    "    fig, ax = plt.subplots(figsize=figsize)\n",
    "    ind = np.arange(len(labels))\n",
    "    plt.bar(ind, data)\n",
    "    plt.xticks(ind, labels, rotation='vertical')\n",
    "    # Вывод значений\n",
    "    for a,b in zip(ind, data):\n",
    "        plt.text(a-0.05, b+0.01, str(round(b,3)))\n",
    "    plt.show()\n",
    "    return labels, data"
   ]
  },
  {
   "cell_type": "code",
   "execution_count": null,
   "id": "d6ae5132-a652-4b03-820c-5b745750f0a3",
   "metadata": {
    "pycharm": {
     "name": "#%%\n"
    }
   },
   "outputs": [],
   "source": [
    "boston_tree_regr_fl, boston_tree_regr_fd = draw_feature_importances(reg, X)"
   ]
  }
 ],
 "metadata": {
  "kernelspec": {
   "display_name": "Python 3 (ipykernel)",
   "language": "python",
   "name": "python3"
  },
  "language_info": {
   "codemirror_mode": {
    "name": "ipython",
    "version": 3
   },
   "file_extension": ".py",
   "mimetype": "text/x-python",
   "name": "python",
   "nbconvert_exporter": "python",
   "pygments_lexer": "ipython3",
   "version": "3.10.4"
  }
 },
 "nbformat": 4,
 "nbformat_minor": 5
}